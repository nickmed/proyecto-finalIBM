{
  "metadata": {
    "kernelspec": {
      "name": "python",
      "display_name": "Python (Pyodide)",
      "language": "python"
    },
    "language_info": {
      "codemirror_mode": {
        "name": "python",
        "version": 3
      },
      "file_extension": ".py",
      "mimetype": "text/x-python",
      "name": "python",
      "nbconvert_exporter": "python",
      "pygments_lexer": "ipython3",
      "version": "3.8"
    }
  },
  "nbformat_minor": 5,
  "nbformat": 4,
  "cells": [
    {
      "id": "dd988842-acc7-49df-a37b-a9c6fd4ebe43",
      "cell_type": "code",
      "source": "# Proyecto Final - Ciencia de Datos\n\n\n## Introducción  \nEste cuaderno contiene información sobre lenguajes, bibliotecas y herramientas utilizadas en la ciencia de datos. \n\n\n## Lenguajes de Ciencia de Datos  \nAlgunos lenguajes populares en la ciencia de datos son:  \n1. Python  \n2. R  \n3. SQL  \n4. Julia  \n\n\n\n## Bibliotecas de Ciencia de Datos  \nAlgunas bibliotecas populares en la ciencia de datos incluyen:  \n1. Pandas  \n2. NumPy  \n3. Matplotlib  \n4. Scikit-learn  \n\n## Herramientas de Ciencia de Datos  \n| Herramienta       | Tipo              |  \n|-------------------|------------------|  \n| Jupyter Notebook | Entorno de desarrollo |  \n| RStudio         | Entorno de desarrollo |  \n| TensorFlow      | Biblioteca de Machine Learning |  \n| Apache Spark    | Procesamiento de Big Data |  \n\n## Expresiones Aritméticas  \nLas expresiones aritméticas nos permiten realizar cálculos matemáticos en Python.  \n\n\n# Multiplicar y sumar dos números  \nresultado = (5 * 4) + 2  \nresultado  \n\n\n# Convertir 150 minutos a horas  \nminutos = 150  \nhoras = minutos / 60  \nhoras  \n\n## **Objetivos**  \n- Aprender sobre los lenguajes de ciencia de datos  \n- Explorar bibliotecas populares  \n- Comprender herramientas clave  \n- Escribir código en Python  \n\n\n## Autor  \nNombre del autor: Nicolas Medina \n\n",
      "metadata": {
        "trusted": true
      },
      "outputs": [],
      "execution_count": null
    },
    {
      "id": "138949ae-a14c-408e-8429-0f88a2686b49",
      "cell_type": "code",
      "source": "",
      "metadata": {
        "trusted": true
      },
      "outputs": [],
      "execution_count": null
    }
  ]
}